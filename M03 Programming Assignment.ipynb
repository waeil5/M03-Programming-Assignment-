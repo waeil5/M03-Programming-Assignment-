{
 "cells": [
  {
   "cell_type": "code",
   "execution_count": 25,
   "id": "21740934",
   "metadata": {},
   "outputs": [
    {
     "name": "stdout",
     "output_type": "stream",
     "text": [
      "['mozzarella', 'Cinderella', 'salmonella']\n",
      "['MOZZARELLA', 'Cinderella', 'salmonella']\n",
      "['MOZZARELLA', 'Cinderella']\n",
      "['Harry', 'Ron', 'Hermione']\n",
      "5\n"
     ]
    }
   ],
   "source": [
    "things=[\"mozzarella\", \"cinderella\", \"salmonella\"]\n",
    "things[1]=things[1].capitalize()\n",
    "print(things)  # yes the first letter has been changed to upper case\n",
    "\n",
    "\n",
    "things[0]=things[0].upper()\n",
    "print(things)\n",
    "\n",
    "del things[2]\n",
    "print(things)\n",
    "\n",
    "\n",
    "\n",
    "\n",
    "\n",
    "def good():\n",
    "    return ['Harry', 'Ron', 'Hermione']\n",
    "mylist = good()\n",
    "print(mylist)\n",
    "\n",
    "\n",
    "def get_odds():\n",
    "    return (num for num in range(10) if num % 2 != 0)\n",
    "    \n",
    "x = 0\n",
    "for num in get_odds():\n",
    "    x += 1\n",
    "    if x == 3: \n",
    "        print(num)\n",
    "        break \n",
    "\n"
   ]
  }
 ],
 "metadata": {
  "kernelspec": {
   "display_name": "Python 3 (ipykernel)",
   "language": "python",
   "name": "python3"
  },
  "language_info": {
   "codemirror_mode": {
    "name": "ipython",
    "version": 3
   },
   "file_extension": ".py",
   "mimetype": "text/x-python",
   "name": "python",
   "nbconvert_exporter": "python",
   "pygments_lexer": "ipython3",
   "version": "3.10.9"
  }
 },
 "nbformat": 4,
 "nbformat_minor": 5
}
